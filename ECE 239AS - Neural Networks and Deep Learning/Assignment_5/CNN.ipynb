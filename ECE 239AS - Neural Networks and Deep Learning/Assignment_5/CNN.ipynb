{
 "cells": [
  {
   "cell_type": "markdown",
   "metadata": {},
   "source": [
    "# Convolutional neural networks\n",
    "\n",
    "In this notebook, we'll put together our convolutional layers to implement a 3-layer CNN.  Then, we'll ask you to implement a CNN that can achieve > 65% validation error on CIFAR-10.\n",
    "\n",
    "CS231n has built a solid API for building these modular frameworks and training them, and we will use their very well implemented framework as opposed to \"reinventing the wheel.\"  This includes using their Solver, various utility functions, their layer structure, and their implementation of fast CNN layers.  This also includes nndl.fc_net, nndl.layers, and nndl.layer_utils.  As in prior assignments, we thank Serena Yeung & Justin Johnson for permission to use code written for the CS 231n class (cs231n.stanford.edu).  \n",
    "\n",
    "If you have not completed the Spatial BatchNorm Notebook, please see the following description from that notebook:\n",
    "\n",
    "Please copy and paste your prior implemented code from HW #4 to start this assignment.  If you did not correctly implement the layers in HW #4, you may collaborate with a classmate to use their layer implementations from HW #4.  You may also visit TA or Prof OH to correct your implementation.  \n",
    "\n",
    "You'll want to copy and paste from HW #4:\n",
    "    - layers.py for your FC network layers, as well as batchnorm and dropout.\n",
    "    - layer_utils.py for your combined FC network layers.\n",
    "    - optim.py for your optimizers.\n",
    "\n",
    "Be sure to place these in the `nndl/` directory so they're imported correctly.  Note, as announced in class, we will not be releasing our solutions."
   ]
  },
  {
   "cell_type": "code",
   "execution_count": 1,
   "metadata": {},
   "outputs": [],
   "source": [
    "# As usual, a bit of setup\n",
    "\n",
    "import numpy as np\n",
    "import matplotlib.pyplot as plt\n",
    "from nndl.cnn import *\n",
    "from cs231n.data_utils import get_CIFAR10_data\n",
    "from cs231n.gradient_check import eval_numerical_gradient_array, eval_numerical_gradient\n",
    "from nndl.layers import *\n",
    "from nndl.conv_layers import *\n",
    "from cs231n.fast_layers import *\n",
    "from cs231n.solver import Solver\n",
    "\n",
    "%matplotlib inline\n",
    "plt.rcParams['figure.figsize'] = (10.0, 8.0) # set default size of plots\n",
    "plt.rcParams['image.interpolation'] = 'nearest'\n",
    "plt.rcParams['image.cmap'] = 'gray'\n",
    "\n",
    "# for auto-reloading external modules\n",
    "# see http://stackoverflow.com/questions/1907993/autoreload-of-modules-in-ipython\n",
    "%load_ext autoreload\n",
    "%autoreload 2\n",
    "\n",
    "def rel_error(x, y):\n",
    "  \"\"\" returns relative error \"\"\"\n",
    "  return np.max(np.abs(x - y) / (np.maximum(1e-8, np.abs(x) + np.abs(y))))"
   ]
  },
  {
   "cell_type": "code",
   "execution_count": 2,
   "metadata": {},
   "outputs": [
    {
     "name": "stdout",
     "output_type": "stream",
     "text": [
      "X_train: (49000, 3, 32, 32) \n",
      "y_train: (49000,) \n",
      "X_val: (1000, 3, 32, 32) \n",
      "y_val: (1000,) \n",
      "X_test: (1000, 3, 32, 32) \n",
      "y_test: (1000,) \n"
     ]
    }
   ],
   "source": [
    "# Load the (preprocessed) CIFAR10 data.\n",
    "\n",
    "data = get_CIFAR10_data()\n",
    "for k in data.keys():\n",
    "  print('{}: {} '.format(k, data[k].shape))"
   ]
  },
  {
   "cell_type": "markdown",
   "metadata": {},
   "source": [
    "## Three layer CNN\n",
    "\n",
    "In this notebook, you will implement a three layer CNN.  The `ThreeLayerConvNet` class is in `nndl/cnn.py`.  You'll need to modify that code for this section, including the initialization, as well as the calculation of the loss and gradients.  You should be able to use the building blocks you have either earlier coded or that we have provided.  Be sure to use the fast layers.\n",
    "\n",
    "The architecture of this CNN will be:\n",
    "\n",
    "conv - relu - 2x2 max pool - affine - relu - affine - softmax\n",
    "\n",
    "We won't use batchnorm yet.  You've also done enough of these to know how to debug; use the cells below.\n",
    "\n",
    "Note: As we are implementing several layers CNN networks. The gradient error can be expected for the `eval_numerical_gradient()` function. If your `W1 max relative error` and `W2 max relative error` are around or below 0.01, they should be acceptable. Other errors should be less than 1e-5. "
   ]
  },
  {
   "cell_type": "code",
   "execution_count": 3,
   "metadata": {},
   "outputs": [
    {
     "name": "stdout",
     "output_type": "stream",
     "text": [
      "W1 max relative error: 0.000695516400939421\n",
      "W2 max relative error: 0.0039686391388139616\n",
      "W3 max relative error: 0.00011390927371795138\n",
      "b1 max relative error: 1.3726783200235366e-05\n",
      "b2 max relative error: 7.40496183064218e-07\n",
      "b3 max relative error: 1.0465621431212488e-09\n"
     ]
    }
   ],
   "source": [
    "num_inputs = 2\n",
    "input_dim = (3, 16, 16)\n",
    "reg = 0.0\n",
    "num_classes = 10\n",
    "X = np.random.randn(num_inputs, *input_dim)\n",
    "y = np.random.randint(num_classes, size=num_inputs)\n",
    "\n",
    "model = ThreeLayerConvNet(num_filters=3, filter_size=3,\n",
    "                          input_dim=input_dim, hidden_dim=7,\n",
    "                          dtype=np.float64)\n",
    "loss, grads = model.loss(X, y)\n",
    "for param_name in sorted(grads):\n",
    "    f = lambda _: model.loss(X, y)[0]\n",
    "    param_grad_num = eval_numerical_gradient(f, model.params[param_name], verbose=False, h=1e-6)\n",
    "    e = rel_error(param_grad_num, grads[param_name])\n",
    "    print('{} max relative error: {}'.format(param_name, rel_error(param_grad_num, grads[param_name])))"
   ]
  },
  {
   "cell_type": "markdown",
   "metadata": {},
   "source": [
    "### Overfit small dataset\n",
    "\n",
    "To check your CNN implementation, let's overfit a small dataset."
   ]
  },
  {
   "cell_type": "code",
   "execution_count": 4,
   "metadata": {},
   "outputs": [
    {
     "name": "stdout",
     "output_type": "stream",
     "text": [
      "(Iteration 1 / 20) loss: 2.409657\n",
      "(Epoch 0 / 10) train acc: 0.290000; val_acc: 0.137000\n",
      "(Iteration 2 / 20) loss: 3.781114\n",
      "(Epoch 1 / 10) train acc: 0.130000; val_acc: 0.105000\n",
      "(Iteration 3 / 20) loss: 3.157548\n",
      "(Iteration 4 / 20) loss: 2.652332\n",
      "(Epoch 2 / 10) train acc: 0.310000; val_acc: 0.122000\n",
      "(Iteration 5 / 20) loss: 2.384959\n",
      "(Iteration 6 / 20) loss: 2.152622\n",
      "(Epoch 3 / 10) train acc: 0.410000; val_acc: 0.162000\n",
      "(Iteration 7 / 20) loss: 1.977024\n",
      "(Iteration 8 / 20) loss: 1.972465\n",
      "(Epoch 4 / 10) train acc: 0.470000; val_acc: 0.200000\n",
      "(Iteration 9 / 20) loss: 1.487897\n",
      "(Iteration 10 / 20) loss: 1.497402\n",
      "(Epoch 5 / 10) train acc: 0.470000; val_acc: 0.209000\n",
      "(Iteration 11 / 20) loss: 1.561010\n",
      "(Iteration 12 / 20) loss: 1.625775\n",
      "(Epoch 6 / 10) train acc: 0.550000; val_acc: 0.188000\n",
      "(Iteration 13 / 20) loss: 1.158749\n",
      "(Iteration 14 / 20) loss: 1.100416\n",
      "(Epoch 7 / 10) train acc: 0.700000; val_acc: 0.224000\n",
      "(Iteration 15 / 20) loss: 1.152854\n",
      "(Iteration 16 / 20) loss: 1.353628\n",
      "(Epoch 8 / 10) train acc: 0.660000; val_acc: 0.197000\n",
      "(Iteration 17 / 20) loss: 0.954572\n",
      "(Iteration 18 / 20) loss: 0.942346\n",
      "(Epoch 9 / 10) train acc: 0.790000; val_acc: 0.200000\n",
      "(Iteration 19 / 20) loss: 0.702952\n",
      "(Iteration 20 / 20) loss: 0.560085\n",
      "(Epoch 10 / 10) train acc: 0.780000; val_acc: 0.188000\n"
     ]
    }
   ],
   "source": [
    "num_train = 100\n",
    "small_data = {\n",
    "  'X_train': data['X_train'][:num_train],\n",
    "  'y_train': data['y_train'][:num_train],\n",
    "  'X_val': data['X_val'],\n",
    "  'y_val': data['y_val'],\n",
    "}\n",
    "\n",
    "model = ThreeLayerConvNet(weight_scale=1e-2)\n",
    "\n",
    "solver = Solver(model, small_data,\n",
    "                num_epochs=10, batch_size=50,\n",
    "                update_rule='adam',\n",
    "                optim_config={\n",
    "                  'learning_rate': 1e-3,\n",
    "                },\n",
    "                verbose=True, print_every=1)\n",
    "solver.train()"
   ]
  },
  {
   "cell_type": "code",
   "execution_count": 5,
   "metadata": {},
   "outputs": [
    {
     "data": {
      "image/png": "[encoded data removed]",
      "text/plain": [
       "<Figure size 432x288 with 2 Axes>"
      ]
     },
     "metadata": {
      "needs_background": "light"
     },
     "output_type": "display_data"
    }
   ],
   "source": [
    "plt.subplot(2, 1, 1)\n",
    "plt.plot(solver.loss_history, 'o')\n",
    "plt.xlabel('iteration')\n",
    "plt.ylabel('loss')\n",
    "\n",
    "plt.subplot(2, 1, 2)\n",
    "plt.plot(solver.train_acc_history, '-o')\n",
    "plt.plot(solver.val_acc_history, '-o')\n",
    "plt.legend(['train', 'val'], loc='upper left')\n",
    "plt.xlabel('epoch')\n",
    "plt.ylabel('accuracy')\n",
    "plt.show()"
   ]
  },
  {
   "cell_type": "markdown",
   "metadata": {},
   "source": [
    "## Train the network\n",
    "\n",
    "Now we train the 3 layer CNN on CIFAR-10 and assess its accuracy."
   ]
  },
  {
   "cell_type": "code",
   "execution_count": 6,
   "metadata": {
    "scrolled": false
   },
   "outputs": [
    {
     "name": "stdout",
     "output_type": "stream",
     "text": [
      "(Iteration 1 / 980) loss: 2.304772\n",
      "(Epoch 0 / 1) train acc: 0.093000; val_acc: 0.119000\n",
      "(Iteration 21 / 980) loss: 2.216487\n",
      "(Iteration 41 / 980) loss: 1.965384\n",
      "(Iteration 61 / 980) loss: 2.400402\n",
      "(Iteration 81 / 980) loss: 2.123724\n",
      "(Iteration 101 / 980) loss: 1.870859\n",
      "(Iteration 121 / 980) loss: 1.535372\n",
      "(Iteration 141 / 980) loss: 1.830349\n",
      "(Iteration 161 / 980) loss: 1.783984\n",
      "(Iteration 181 / 980) loss: 1.588559\n",
      "(Iteration 201 / 980) loss: 1.816075\n",
      "(Iteration 221 / 980) loss: 1.809163\n",
      "(Iteration 241 / 980) loss: 1.803520\n",
      "(Iteration 261 / 980) loss: 1.887699\n",
      "(Iteration 281 / 980) loss: 1.997996\n",
      "(Iteration 301 / 980) loss: 1.806717\n",
      "(Iteration 321 / 980) loss: 1.685377\n",
      "(Iteration 341 / 980) loss: 1.752647\n",
      "(Iteration 361 / 980) loss: 1.900186\n",
      "(Iteration 381 / 980) loss: 1.579959\n",
      "(Iteration 401 / 980) loss: 1.586494\n",
      "(Iteration 421 / 980) loss: 1.735831\n",
      "(Iteration 441 / 980) loss: 1.764274\n",
      "(Iteration 461 / 980) loss: 1.645215\n",
      "(Iteration 481 / 980) loss: 1.733718\n",
      "(Iteration 501 / 980) loss: 1.651727\n",
      "(Iteration 521 / 980) loss: 1.494799\n",
      "(Iteration 541 / 980) loss: 1.612021\n",
      "(Iteration 561 / 980) loss: 1.607097\n",
      "(Iteration 581 / 980) loss: 1.491694\n",
      "(Iteration 601 / 980) loss: 1.779090\n",
      "(Iteration 621 / 980) loss: 1.665610\n",
      "(Iteration 641 / 980) loss: 1.619880\n",
      "(Iteration 661 / 980) loss: 1.429938\n",
      "(Iteration 681 / 980) loss: 1.788073\n",
      "(Iteration 701 / 980) loss: 1.534520\n",
      "(Iteration 721 / 980) loss: 1.445117\n",
      "(Iteration 741 / 980) loss: 1.491391\n",
      "(Iteration 761 / 980) loss: 1.759059\n",
      "(Iteration 781 / 980) loss: 1.435206\n",
      "(Iteration 801 / 980) loss: 1.562033\n",
      "(Iteration 821 / 980) loss: 1.458356\n",
      "(Iteration 841 / 980) loss: 1.583965\n",
      "(Iteration 861 / 980) loss: 1.785131\n",
      "(Iteration 881 / 980) loss: 1.786786\n",
      "(Iteration 901 / 980) loss: 1.599625\n",
      "(Iteration 921 / 980) loss: 1.410915\n",
      "(Iteration 941 / 980) loss: 1.621047\n",
      "(Iteration 961 / 980) loss: 1.661504\n",
      "(Epoch 1 / 1) train acc: 0.488000; val_acc: 0.478000\n"
     ]
    }
   ],
   "source": [
    "model = ThreeLayerConvNet(weight_scale=0.001, hidden_dim=500, reg=0.001)\n",
    "\n",
    "solver = Solver(model, data,\n",
    "                num_epochs=1, batch_size=50,\n",
    "                update_rule='adam',\n",
    "                optim_config={\n",
    "                  'learning_rate': 1e-3,\n",
    "                },\n",
    "                verbose=True, print_every=20)\n",
    "solver.train()"
   ]
  },
  {
   "cell_type": "markdown",
   "metadata": {},
   "source": [
    "# Get > 65% validation accuracy on CIFAR-10.\n",
    "\n",
    "In the last part of the assignment, we'll now ask you to train a CNN to get better than 65% validation accuracy on CIFAR-10.\n",
    "\n",
    "### Things you should try:\n",
    "- Filter size: Above we used 7x7; but VGGNet and onwards showed stacks of 3x3 filters are good.  \n",
    "- Number of filters: Above we used 32 filters. Do more or fewer do better?\n",
    "- Batch normalization: Try adding spatial batch normalization after convolution layers and vanilla batch normalization aafter affine layers. Do your networks train faster?\n",
    "- Network architecture: Can a deeper CNN do better?  Consider these architectures:\n",
    "    - [conv-relu-pool]xN - conv - relu - [affine]xM - [softmax or SVM]\n",
    "    - [conv-relu-pool]XN - [affine]XM - [softmax or SVM]\n",
    "    - [conv-relu-conv-relu-pool]xN - [affine]xM - [softmax or SVM]\n",
    "\n",
    "### Tips for training\n",
    "For each network architecture that you try, you should tune the learning rate and regularization strength. When doing this there are a couple important things to keep in mind:\n",
    "\n",
    "- If the parameters are working well, you should see improvement within a few hundred iterations\n",
    "- Remember the coarse-to-fine approach for hyperparameter tuning: start by testing a large range of hyperparameters for just a few training iterations to find the combinations of parameters that are working at all.\n",
    "- Once you have found some sets of parameters that seem to work, search more finely around these parameters. You may need to train for more epochs."
   ]
  },
  {
   "cell_type": "code",
   "execution_count": 7,
   "metadata": {
    "scrolled": false
   },
   "outputs": [
    {
     "name": "stdout",
     "output_type": "stream",
     "text": [
      "(Iteration 1 / 9800) loss: 2.304649\n",
      "(Epoch 0 / 10) train acc: 0.108000; val_acc: 0.105000\n",
      "(Epoch 1 / 10) train acc: 0.539000; val_acc: 0.519000\n",
      "(Epoch 2 / 10) train acc: 0.579000; val_acc: 0.543000\n",
      "(Epoch 3 / 10) train acc: 0.624000; val_acc: 0.588000\n",
      "(Epoch 4 / 10) train acc: 0.622000; val_acc: 0.572000\n",
      "(Epoch 5 / 10) train acc: 0.663000; val_acc: 0.590000\n",
      "(Epoch 6 / 10) train acc: 0.650000; val_acc: 0.604000\n",
      "(Epoch 7 / 10) train acc: 0.639000; val_acc: 0.599000\n",
      "(Epoch 8 / 10) train acc: 0.687000; val_acc: 0.637000\n",
      "(Epoch 9 / 10) train acc: 0.723000; val_acc: 0.630000\n",
      "(Epoch 10 / 10) train acc: 0.718000; val_acc: 0.634000\n"
     ]
    }
   ],
   "source": [
    "# ================================================================ #\n",
    "# YOUR CODE HERE:\n",
    "#   Implement a CNN to achieve greater than 65% validation accuracy\n",
    "#   on CIFAR-10.\n",
    "# ================================================================ #\n",
    "\n",
    "# Defaults\n",
    "# (self, input_dim=(3, 32, 32), num_filters=32, filter_size=7,\n",
    "# hidden_dim=100, num_classes=10, weight_scale=1e-3, reg=0.0,\n",
    "# dtype=np.float32, use_batchnorm=False)\n",
    "\n",
    "model = ThreeLayerConvNet(weight_scale=0.001, hidden_dim=500, reg=0.001, filter_size=3,use_batchnorm=False)\n",
    "\n",
    "solver = Solver(model, data, #data / small_data\n",
    "                num_epochs=10, batch_size=50,\n",
    "                update_rule='adam',\n",
    "                optim_config={\n",
    "                  'learning_rate': 1e-3,\n",
    "                },\n",
    "                verbose=True, print_every=9800)\n",
    "\n",
    "solver.train()\n",
    "\n",
    "# ================================================================ #\n",
    "# END YOUR CODE HERE\n",
    "# ================================================================ #\n"
   ]
  },
  {
   "cell_type": "code",
   "execution_count": null,
   "metadata": {},
   "outputs": [],
   "source": []
  }
 ],
 "metadata": {
  "kernelspec": {
   "display_name": "Python 3",
   "language": "python",
   "name": "python3"
  },
  "language_info": {
   "codemirror_mode": {
    "name": "ipython",
    "version": 3
   },
   "file_extension": ".py",
   "mimetype": "text/x-python",
   "name": "python",
   "nbconvert_exporter": "python",
   "pygments_lexer": "ipython3",
   "version": "3.6.5"
  }
 },
 "nbformat": 4,
 "nbformat_minor": 2
}
