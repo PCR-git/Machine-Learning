{
 "cells": [
  {
   "cell_type": "markdown",
   "metadata": {},
   "source": [
    "# CS 267A - Homework 2\n",
    "## Peter Racioppo\n",
    "## April 24, 2020"
   ]
  },
  {
   "cell_type": "markdown",
   "metadata": {},
   "source": [
    "## Problem 6\n",
    "### Programming Exercise: Implement a sampler"
   ]
  },
  {
   "cell_type": "markdown",
   "metadata": {},
   "source": [
    "### Let X = {X1, X2, ..., Xn} be a collection of n independent Boolean random variables, with each vari- able Xi being true with probability pi, and false with probability 1 − pi. Let ∆ be a CNF which uses {X1, X2, ..., Xn} as its atoms.\n",
    "### Then, we can interpret ∆ as a random variable with the following conditional distribution, where x is an assignment to each variable in X:\n",
    "\n",
    "### Pr(∆ = true|X = x) = 0 = 1 if x is a satisfying assignment to ∆ , and 0 otherwise (1).\n",
    "\n",
    "### For this problem, you will be computing the marginal probability Pr(∆ = true), from the joint distribution Pr(∆, X1 , X2 , ..., Xn ). Intuitively, this is the probability that ∆ is satisfied if we randomly draw assignments to the X variables according to specified distributions."
   ]
  },
  {
   "cell_type": "markdown",
   "metadata": {},
   "source": [
    "## Part B: Write a Sampler\n",
    "### For this question, you will be implementing a method to approximate the probability P (∆ = true). To do this, you will use a Monte-Carlo sampler. You will not need to turn in your code; we will only ask for the output of your program.\n",
    "### A Monte-Carlo sampler estimates a probability by randomly drawing many samples. For example, imagine we have a mysterious coin which lands on heads with some unknown probability p. We can flip the coin as many times as we want, but we can’t directly observe p. We can estimate p by simply flipping the coin n times, with the estimate getting more accurate as n increases. Imagine we flip the coin 4 times and get {heads, heads, tails, heads}. Then, we can guess that p = 34 based on the proportion of times that we see heads in this finite set.\n",
    "### We want to apply Monte-Carlo sampling to our problem of estimating the probability that ∆ is satisfied. Formally, we want you to implement a function which performs the following task:"
   ]
  },
  {
   "cell_type": "markdown",
   "metadata": {},
   "source": [
    "### Input:\n",
    "### 1. A CNF ∆, specified as a list of lists of integers, where a positive integer is a positive literal and a negative integer is a negated literal (just like the CNF from last homework).\n",
    "### Example: ∆ = [[1, −2], [−1, 2]].\n",
    "### 2. Probabilities: A map w from each variable to its probability of being true. You can implement this as a dictionary.\n",
    "### Example: w = [(1 → 0.5), (2 → 0.9)] says variable 1 is true with probability 0.5, and variable 2 is true with probability 0.9.\n",
    "### 3. n, the number of samples to draw.\n",
    "### Output:\n",
    "### The approximate probability that Pr(∆ = true) if we randomly draw n samples according to the distribution specified by w."
   ]
  },
  {
   "cell_type": "markdown",
   "metadata": {},
   "source": [
    "### We recommend you solve this problem by implementing the following helper methods:\n",
    "### Draw Sample: A method which draws a random assignment to variables according to a specified weight function w.\n",
    "### Substitution: A method which substitutes the value of each sampled variable into ∆, and computes whether or not ∆ is satisfied under this assignment."
   ]
  },
  {
   "cell_type": "code",
   "execution_count": 124,
   "metadata": {},
   "outputs": [],
   "source": [
    "# Imports\n",
    "import numpy as np\n",
    "import matplotlib.pyplot as plt\n",
    "import random\n",
    "import math"
   ]
  },
  {
   "cell_type": "code",
   "execution_count": 82,
   "metadata": {},
   "outputs": [],
   "source": [
    "# This function takes a Conjuctive Normal Form (CNF) Boolean formula\n",
    "# and a list of variable truth values, and computes whether the CNF\n",
    "# is satisfied under this assignment.\n",
    "def f_Substitute(Delta,Var):\n",
    "    # Inputs:\n",
    "    # A CNF Delta\n",
    "    # A list Var of the True/False values of each variable\n",
    "    \n",
    "    Var_n = Var*2 - 1 # Replace 0s in Var with -1s\n",
    "    L = np.shape(Delta)[0] # Number of conjunctions in Delta\n",
    "    # Conj_Vals is a list of truth values for each conjunction\n",
    "    # in the CNF.\n",
    "    Conj_Vals = np.zeros(L) # Initialize Conj_Vals to zeros\n",
    "    # Loop through the list of conjunctions:\n",
    "    for conj_i in np.arange(L):\n",
    "        conj = Delta[conj_i] # A given conjunction\n",
    "        # tf is the True/False value of this conjunction:\n",
    "        tf = 0 # (Initialize to zero)\n",
    "        # Loop through the elements in a given conjunction:\n",
    "        for i in conj:\n",
    "            # If an i is negative this corresponds to a negation.\n",
    "            # Thus, we multiply the sign of i by the truth value\n",
    "            # of the corresponding variable. This variable is\n",
    "            # indexed by abs(i)-1. If any of the disjunctions\n",
    "            # are satisfied, the conjunction is true, so we set\n",
    "            # tf = 1 and break. Otherwise, tf = 0, and the\n",
    "            # conjunction is false.\n",
    "            if (np.sign(i)*Var_n[np.absolute(i)-1]) == 1:\n",
    "                tf = 1\n",
    "                break\n",
    "        # Add the truth value for a given conjunction\n",
    "        # to the list Conj_Vals:\n",
    "        Conj_Vals[conj_i] = tf\n",
    "        \n",
    "        # Outputs:\n",
    "        # 'True' if Conj_Vals contains only 1s\n",
    "        # 'False' otherwise\n",
    "    return (np.all(Conj_Vals))"
   ]
  },
  {
   "cell_type": "code",
   "execution_count": 119,
   "metadata": {},
   "outputs": [],
   "source": [
    "# This function draws a random assignment to variables\n",
    "# according to a specified weight function w.\n",
    "def f_Draw_Sample(w):\n",
    "    # Input: w, a list of probabilities that each variable is true.\n",
    "    \n",
    "    # Probabilities must be between 0 and 1:\n",
    "    if np.min(w) < 0 or np.max(w) > 1:\n",
    "        print(\"Invalid probability.\")\n",
    "    \n",
    "    N = np.size(w) # The number of variables.\n",
    "    # Var is a list of the True/False values of each variable:\n",
    "    Var = np.zeros(N) # Initialize to zeros\n",
    "    # Loop through the variables:\n",
    "    for i in np.arange(N):\n",
    "        # Randomly draw 1 or 0, with probability w[i] and 1 - w[i]:\n",
    "        Var[i] = np.random.choice(np.array((1,0)),p=np.array((w[i],1-w[i])))\n",
    "        \n",
    "    # Output: Var, a list of the True/False values of each variable.\n",
    "    return Var"
   ]
  },
  {
   "cell_type": "code",
   "execution_count": 137,
   "metadata": {},
   "outputs": [],
   "source": [
    "# This function...\n",
    "def f_Monte_Carlo_Sampler(Delta,w,n=1000):\n",
    "    # Inputs:\n",
    "    # Delta, a CNF\n",
    "    # w, a list of probabilities that each variable is true.\n",
    "    # n, the number of samples\n",
    "    \n",
    "    # counter counts the number of\n",
    "    # times the CNF is satisfied:\n",
    "    counter = 0 # Initialize to zero\n",
    "    # Sample n times:\n",
    "    for i in np.arange(n):\n",
    "        # Randomly draw truth values for each variable,\n",
    "        # according to the weight vector w:\n",
    "        Var = f_Draw_Sample(w)\n",
    "        # Check whether the CNF is satisfied under this\n",
    "        # assignment and increment the counter.\n",
    "        counter += f_Substitute(Delta,Var)\n",
    "        \n",
    "    # Output:\n",
    "    # counter/n, the sample mean of the\n",
    "    # number of times the CNF was satisfied.\n",
    "    return (counter/n)"
   ]
  },
  {
   "cell_type": "code",
   "execution_count": 141,
   "metadata": {},
   "outputs": [
    {
     "data": {
      "text/plain": [
       "0.631"
      ]
     },
     "execution_count": 141,
     "metadata": {},
     "output_type": "execute_result"
    }
   ],
   "source": [
    "# Test:\n",
    "Delta = [[-1,-2,3],[-1,2,4],[2,3,4],[3,4]]\n",
    "w = np.array((0.1,0.2,0.5,0.3))\n",
    "\n",
    "f_Monte_Carlo_Sampler(Delta,w)"
   ]
  },
  {
   "cell_type": "markdown",
   "metadata": {},
   "source": [
    "## Part C: Evaluate\n",
    "### For each of the following, use n = 1000 samples to compute Pr(∆ = true), given the probabilities for each atom. You should report 3 runs for each question.\n",
    "### 1. (a∨b∨¬c)∧(b∨c∨d∨¬e)∧(¬b∨¬d∨e)∧(¬a∨¬b) with Pr(a)=0.3, Pr(b)=0.6, Pr(c)=0.1, Pr(d)=0.8, Pr(e)=0.4\n",
    "### 2. (¬a∨c∨d)∧(b∨c∨¬d∨e)∧(¬c∨d∨¬e) with Pr(a) = 0.2, Pr(b) = 0.1, Pr(c) = 0.8, Pr(d) =0.3, Pr(e)=0.5"
   ]
  },
  {
   "cell_type": "code",
   "execution_count": 170,
   "metadata": {},
   "outputs": [
    {
     "name": "stdout",
     "output_type": "stream",
     "text": [
      "0.569\n",
      "0.548\n",
      "0.592\n"
     ]
    }
   ],
   "source": [
    "# [a,b,c,d,e] = [1,2,3,4,5]\n",
    "\n",
    "Delta1 = [[1,2,-3],[2,3,4,-5],[-2,-4,5],[-1,-2]]\n",
    "w1 = np.array((0.3,0.6,0.1,0.8,0.4))\n",
    "\n",
    "for i in np.arange(3):\n",
    "    print(f_Monte_Carlo_Sampler(Delta1,w1))"
   ]
  },
  {
   "cell_type": "code",
   "execution_count": 172,
   "metadata": {},
   "outputs": [
    {
     "name": "stdout",
     "output_type": "stream",
     "text": [
      "0.643\n",
      "0.652\n",
      "0.657\n"
     ]
    }
   ],
   "source": [
    "Delta2 = [[-1,3,4],[2,3,-4,5],[-3,4,-5]]\n",
    "w2 = np.array((0.2,0.1,0.8,0.3,0.5))\n",
    "\n",
    "for i in np.arange(3):\n",
    "    print(f_Monte_Carlo_Sampler(Delta2,w2))"
   ]
  },
  {
   "cell_type": "markdown",
   "metadata": {},
   "source": [
    "### Plotting how the estimate of Pr(∆ = true) depends on the number of samples:"
   ]
  },
  {
   "cell_type": "code",
   "execution_count": 173,
   "metadata": {},
   "outputs": [],
   "source": [
    "# This function computes the Monte Carlo estimate of\n",
    "# Pr(∆ = true) for a range of sample sizes.\n",
    "def f_MC_n(Delta,w,order=3):\n",
    "    # Inputs:\n",
    "    # Delta, a CNF\n",
    "    # w, a list of probabilities that each variable is true.\n",
    "    # order, the max order of the sample size (n <= 10^order)\n",
    "    \n",
    "    ep = np.linspace(0,order,order*5+1) # Vector of exponents\n",
    "    n_vec = 10**ep # Powers of ten\n",
    "    # Initialize placeholder for estimated probabilities:\n",
    "    p_vec = np.zeros(np.size(ep))\n",
    "    \n",
    "    # Loop through the list of sample sizes:\n",
    "    for i in np.arange(np.size(ep)):\n",
    "        # Compute the estimate for each sample size:\n",
    "        p_vec[i] = f_Monte_Carlo_Sampler(Delta,w,n_vec[i])\n",
    "    \n",
    "    # Outputs:\n",
    "    # n_vec, the sample sizes\n",
    "    # p_vec, the estimated probabilities\n",
    "    # for each sample size\n",
    "    return(n_vec,p_vec)"
   ]
  },
  {
   "cell_type": "code",
   "execution_count": 174,
   "metadata": {},
   "outputs": [],
   "source": [
    "# This function plots the estimated\n",
    "# probabilities vs the sample size\n",
    "def f_Plot(n_vec,p_vec):\n",
    "    fig = plt.figure()\n",
    "    ax = fig.add_subplot(1, 1, 1)\n",
    "    plt.plot(n_vec,p_vec)\n",
    "    ax.set_xscale('log')\n",
    "    plt.xlabel('Log Sample Size')\n",
    "    plt.ylabel('Pr(∆ = true)')\n",
    "    plt.grid()\n",
    "    plt.show()"
   ]
  },
  {
   "cell_type": "code",
   "execution_count": 176,
   "metadata": {},
   "outputs": [
    {
     "data": {
      "image/png": "[encoded data removed]",
      "text/plain": [
       "<Figure size 432x288 with 1 Axes>"
      ]
     },
     "metadata": {
      "needs_background": "light"
     },
     "output_type": "display_data"
    }
   ],
   "source": [
    "# Run for the first CNF:\n",
    "n_vec,p_vec = f_MC_n(Delta1,w1,order=4)\n",
    "f_Plot(n_vec,p_vec)"
   ]
  },
  {
   "cell_type": "code",
   "execution_count": 177,
   "metadata": {},
   "outputs": [
    {
     "data": {
      "image/png": "[encoded data removed]",
      "text/plain": [
       "<Figure size 432x288 with 1 Axes>"
      ]
     },
     "metadata": {
      "needs_background": "light"
     },
     "output_type": "display_data"
    }
   ],
   "source": [
    "# Run for the second CNF:\n",
    "n_vec,p_vec = f_MC_n(Delta2,w2,order=4)\n",
    "f_Plot(n_vec,p_vec)"
   ]
  }
 ],
 "metadata": {
  "kernelspec": {
   "display_name": "Python 3",
   "language": "python",
   "name": "python3"
  },
  "language_info": {
   "codemirror_mode": {
    "name": "ipython",
    "version": 3
   },
   "file_extension": ".py",
   "mimetype": "text/x-python",
   "name": "python",
   "nbconvert_exporter": "python",
   "pygments_lexer": "ipython3",
   "version": "3.7.4"
  }
 },
 "nbformat": 4,
 "nbformat_minor": 2
}
